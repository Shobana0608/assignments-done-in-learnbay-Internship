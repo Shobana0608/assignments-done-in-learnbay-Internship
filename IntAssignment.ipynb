{
 "cells": [
  {
   "cell_type": "code",
   "execution_count": 3,
   "id": "befdc47b-927c-4b44-be8c-3dc3c73399ff",
   "metadata": {},
   "outputs": [
    {
     "name": "stdout",
     "output_type": "stream",
     "text": [
      "<class 'int'>\n",
      "140703518112280\n"
     ]
    }
   ],
   "source": [
    "#Declare an int value and store it in a variable.\n",
    "#Check the type and print the id of the same.\n",
    "x=4\n",
    "print(type(x))\n",
    "print(id(x))"
   ]
  },
  {
   "cell_type": "code",
   "execution_count": 5,
   "id": "669c2071-7ce3-476b-9093-7479bb3aebb0",
   "metadata": {},
   "outputs": [
    {
     "name": "stdout",
     "output_type": "stream",
     "text": [
      "140703518113944\n",
      "140703518113944\n"
     ]
    }
   ],
   "source": [
    "#Take one int value between 0 - 256.\n",
    "#Assign it to two different variables.\n",
    "#Check the id of both the variables. It should come the same. Check why?\n",
    "x=56\n",
    "y=56\n",
    "print(id(x))\n",
    "print(id(y))"
   ]
  },
  {
   "cell_type": "code",
   "execution_count": 15,
   "id": "6f7fed93-bde8-48a3-9863-ae79afe9dc86",
   "metadata": {},
   "outputs": [
    {
     "name": "stdout",
     "output_type": "stream",
     "text": [
      "140703518112056\n",
      "140703518113944\n"
     ]
    }
   ],
   "source": [
    "#Take one int value either less than -5 or greater than 256.\n",
    "#Assign it to two different variables.\n",
    "#Check the id of both the variables. It should come different.Check why?\n",
    "x=-3\n",
    "y=56\n",
    "print(id(x))\n",
    "print(id(y))"
   ]
  },
  {
   "cell_type": "code",
   "execution_count": 33,
   "id": "6b8be78f-9d13-405d-b09c-0056f58e6475",
   "metadata": {},
   "outputs": [
    {
     "name": "stdout",
     "output_type": "stream",
     "text": [
      "sum of two numbers:\n",
      "49\n",
      "difference of two numbers:\n",
      "25\n",
      "Product of two numbers:\n",
      "444\n",
      "value after dividing first num with second number\n",
      "3.0833333333333335\n",
      "the remainder after dividing first number with second number\n",
      "1\n",
      " the quotient after dividing first number with second number\n",
      "3\n",
      "the result of the first num to the power of the second number\n",
      "6582952005840035281\n"
     ]
    }
   ],
   "source": [
    "#Arithmetic Operations on integers\n",
    "#Take two different integer values.\n",
    "#Store them in two different variables.\n",
    "#Do below operations on them:-\n",
    "#Find sum of both numbers\n",
    "#Find difference between them\n",
    "#Find the product of both numbers.\n",
    "#Find value after dividing first num with second number\n",
    "#Find the remainder after dividing first number with second number\n",
    "#Find the quotient after dividing first number with second number\n",
    "#Find the result of the first num to the power of the second number.\n",
    "x=37\n",
    "y=12\n",
    "print(\"sum of two numbers:\")\n",
    "print(x+y)\n",
    "print(\"difference of two numbers:\")\n",
    "print(x-y)\n",
    "print(\"Product of two numbers:\")\n",
    "print(x*y)\n",
    "print(\"value after dividing first num with second number\")\n",
    "print(x/y)\n",
    "print(\"the remainder after dividing first number with second number\")\n",
    "print(x%y)\n",
    "print(\" the quotient after dividing first number with second number\")\n",
    "print(x//y)\n",
    "print(\"the result of the first num to the power of the second number\")\n",
    "print(x**y)\n"
   ]
  },
  {
   "cell_type": "code",
   "execution_count": 41,
   "id": "3145ed69-e3d8-44fa-8a0d-e8fd0ac39307",
   "metadata": {},
   "outputs": [
    {
     "name": "stdout",
     "output_type": "stream",
     "text": [
      "greater than number \n",
      "True\n",
      "False\n",
      "True\n",
      "False\n"
     ]
    }
   ],
   "source": [
    "#Comparison Operators on integers\n",
    "#Take two different integer values.\n",
    "#Store them in two different variables.\n",
    "#Do below operations on them:-\n",
    "#Compare se two numbers with below operator:-\n",
    "#Greater than, '>'\n",
    "#Smaller than, '<'\n",
    "#Greater than or equal to, '>='\n",
    "#Less than or equal to, '<='\n",
    "#Observe their output(return type should be boolean)\n",
    "x=52\n",
    "y=14\n",
    "print(x>y)\n",
    "print(x<y)\n",
    "print(x>=y)\n",
    "print(x<=y)"
   ]
  },
  {
   "cell_type": "code",
   "execution_count": 43,
   "id": "320d107d-8dc9-46ce-8a41-3614d7d70522",
   "metadata": {},
   "outputs": [
    {
     "name": "stdout",
     "output_type": "stream",
     "text": [
      "False\n",
      "True\n"
     ]
    }
   ],
   "source": [
    "# Equality Operator\n",
    "#Take two different integer values.\n",
    "#Store them in two different variables.\n",
    "#Equate them using equality operators (==, !=)\n",
    "#Observe the output(return type should be boolean)\n",
    "x=54\n",
    "y=10\n",
    "\n",
    "print(x==y)\n",
    "print(x!=y)\n"
   ]
  },
  {
   "cell_type": "code",
   "execution_count": 45,
   "id": "ae9c2754-e3ee-44c3-9872-01261648b8da",
   "metadata": {},
   "outputs": [
    {
     "name": "stdout",
     "output_type": "stream",
     "text": [
      "20\n",
      "0\n",
      "0\n",
      "0\n",
      "10\n",
      "20\n",
      "20\n",
      "0\n",
      "False\n",
      "True\n"
     ]
    }
   ],
   "source": [
    "#Logical operators\n",
    "#Observe the output of below #code\n",
    "#Cross check the output manually\n",
    "print ( 10 and 20 )\n",
    "#----------------------------------------->Output is 20\n",
    "print ( 0 and 20 )\n",
    "#----------------------------------------->Output is 0\n",
    "print ( 20 and 0 )\n",
    "#----------------------------------------->Output is 0\n",
    "print ( 0 and 0 )\n",
    "#----------------------------------------->Output is 0\n",
    "print ( 10 or 20 )\n",
    "#----------------------------------------->Output is 10\n",
    "print ( 0 or 20 )\n",
    "#----------------------------------------->Output is 20\n",
    "print ( 20 or 0 )\n",
    "#----------------------------------------->Output is 20\n",
    "print ( 0 or 0 )\n",
    "#----------------------------------------->Output is 0\n",
    "print ( not 10 )\n",
    "#----------------------------------------->Output is False\n",
    "print ( not 0 )\n",
    "#----------------------------------------->Output is True"
   ]
  },
  {
   "cell_type": "code",
   "execution_count": 49,
   "id": "5237a6a0-6eab-4782-96ab-4e54b84a5219",
   "metadata": {},
   "outputs": [
    {
     "name": "stdout",
     "output_type": "stream",
     "text": [
      "True\n",
      "False\n",
      "False\n",
      "True\n"
     ]
    }
   ],
   "source": [
    "#What is the output of expression inside print statement. Cross check\n",
    "#before running the program.\n",
    "a = 10\n",
    "b = 10\n",
    "print(a is b) #True or False?\n",
    "print(a is not b) #True or False?\n",
    "a = 1000\n",
    "b = 1000\n",
    "print(a is b) #True or False?\n",
    "print(a is not b) #True or False?\n"
   ]
  },
  {
   "cell_type": "code",
   "execution_count": 51,
   "id": "1c69c550-e75a-42d7-93f5-74f80cbdeddf",
   "metadata": {},
   "outputs": [
    {
     "name": "stdout",
     "output_type": "stream",
     "text": [
      "20\n"
     ]
    }
   ],
   "source": [
    "#What is the output of expression inside print statement. Cross check\n",
    "#before running the program.\n",
    "print ( 10 +( 10 * 32 )// 2 ** 5 & 20 +(~( -10 ))<< 2 )"
   ]
  },
  {
   "cell_type": "code",
   "execution_count": 29,
   "id": "e6b58f31-856c-4edd-8ab1-c158efac2f72",
   "metadata": {},
   "outputs": [
    {
     "name": "stdout",
     "output_type": "stream",
     "text": [
      "0\n",
      "30\n",
      "30\n",
      "-11\n",
      "40\n",
      "2\n"
     ]
    }
   ],
   "source": [
    "#Bitwise Operators\n",
    "#Do below operations on the values provided below:-\n",
    "# Bitwise and(&) -----------------------------------------> 10, 20\n",
    "#-------> Output is 0\n",
    "# Bitwise or(|) -----------------------------------------> 10, 20\n",
    "#-------> Output is 30\n",
    "# Bitwise(^) -----------------------------------------> 10, 20\n",
    "#-------> Output is 30\n",
    "# Bitwise negation(~) ------------------------------------> 10\n",
    "#-------> Output is -11\n",
    "# Bitwise left shift ------------------------------------> 10,2\n",
    "#-------> Output is 40\n",
    "# Bitwise right shift ------------------------------------> 10,2\n",
    "#-------> Output is \n",
    "\n",
    "result=10&20\n",
    "print(result)\n",
    "\n",
    "result = 10 | 20\n",
    "print(result)  # Output: 30\n",
    "\n",
    "result = 10 ^ 20\n",
    "print(result)  # Output: 30\n",
    "\n",
    "result = ~10 \n",
    "print(result) # Output: -11\n",
    "\n",
    "result = 10 << 2\n",
    "print(result)  # Output: 40\n",
    "\n",
    "result = 10 >> 2\n",
    "print(result)  # Output: 2\n",
    "\n"
   ]
  },
  {
   "cell_type": "code",
   "execution_count": 3,
   "id": "7bf2a02a-7f4b-49d8-a182-6de20662afd2",
   "metadata": {},
   "outputs": [
    {
     "name": "stdout",
     "output_type": "stream",
     "text": [
      "True\n",
      "False\n",
      "False\n",
      "True\n"
     ]
    }
   ],
   "source": [
    "#What is the output of expression inside print statement. Cross check\n",
    "#before running the program.\n",
    "a = 10\n",
    "b = 10\n",
    "print(a is b) #True or False?\n",
    "print(a is not b) #True or False?\n",
    "a = 1000\n",
    "b = 1000\n",
    "print(a is b) #True or False?\n",
    "print(a is not b) #True or False?"
   ]
  },
  {
   "cell_type": "code",
   "execution_count": 5,
   "id": "2ff255fa-5e7d-418f-a1ae-65ed831e78e0",
   "metadata": {},
   "outputs": [
    {
     "name": "stdout",
     "output_type": "stream",
     "text": [
      "20\n"
     ]
    }
   ],
   "source": [
    "# What is the output of expression inside print statement. Cross check\n",
    "#before running the program.\n",
    "print(10+(10*32)//2**5&20+(~(-10))<<2)"
   ]
  },
  {
   "cell_type": "code",
   "execution_count": 7,
   "id": "7965e7f1-17c5-40e9-b685-fa426c74ae6f",
   "metadata": {},
   "outputs": [
    {
     "name": "stdout",
     "output_type": "stream",
     "text": [
      "True\n",
      "True\n",
      "True\n",
      "True\n",
      "True\n",
      "True\n"
     ]
    }
   ],
   "source": [
    " #Membership operation\n",
    "#in, not in are two membership operators and it returns boolean value\n",
    "print('2' in 'Python2.7.8')\n",
    "print(10 in [10,10.20,10+20j,'Python'])\n",
    "print(10 in (10,10.20,10+20j,'Python'))\n",
    "print(2 in {1,2,3})\n",
    "print(3 in {1:100, 2:200, 3:300})\n",
    "print(10 in range(20))\n"
   ]
  },
  {
   "cell_type": "code",
   "execution_count": 13,
   "id": "ae5246ab-9fdf-4dde-9614-4f1705318962",
   "metadata": {},
   "outputs": [
    {
     "name": "stdout",
     "output_type": "stream",
     "text": [
      "0b10011010010100\n",
      "0o23224\n",
      "0x2694\n"
     ]
    }
   ],
   "source": [
    "#An integer can be represented in binary, octal or hexadecimal form.\n",
    "#Declare one binary, one octal and one hexadecimal value and store them\n",
    "#in three different variables.\n",
    "#Convert 9876 to its binary, octal and hexadecimal equivalent and print\n",
    "#their corresponding value.\n",
    "\n",
    "print(bin(9876))\n",
    "print(oct(9876))\n",
    "print(hex(9876))"
   ]
  },
  {
   "cell_type": "code",
   "execution_count": 11,
   "id": "dee95358-2671-4924-a9aa-7cb7ad62d4d2",
   "metadata": {},
   "outputs": [
    {
     "name": "stdout",
     "output_type": "stream",
     "text": [
      "80\n",
      "3870\n",
      "64222\n",
      "0b1010000\n",
      "0o7436\n",
      "0xfade\n",
      "0b1010000\n",
      "0b1111101011011110\n",
      "0o175336\n",
      "0o7436\n",
      "0x50\n",
      "0xfade\n"
     ]
    }
   ],
   "source": [
    "\n",
    "#What will be the output of following:-\n",
    "a = 0b1010000\n",
    "print(a)\n",
    "b = 0o7436\n",
    "print(b)\n",
    "c = 0xfade\n",
    "print(c)\n",
    "print(bin(80))\n",
    "print(oct(3870))\n",
    "print(hex(64222))\n",
    "print(bin(0b1010000))\n",
    "print(bin(0xfade))\n",
    "print(oct(0xfade))\n",
    "print(oct(0o7436))\n",
    "print(hex(0b1010000))\n",
    "print(hex(0xfade))"
   ]
  },
  {
   "cell_type": "code",
   "execution_count": null,
   "id": "16a63ae2-52dd-450c-b3f1-a4b837e390ff",
   "metadata": {},
   "outputs": [],
   "source": []
  }
 ],
 "metadata": {
  "kernelspec": {
   "display_name": "Python 3 (ipykernel)",
   "language": "python",
   "name": "python3"
  },
  "language_info": {
   "codemirror_mode": {
    "name": "ipython",
    "version": 3
   },
   "file_extension": ".py",
   "mimetype": "text/x-python",
   "name": "python",
   "nbconvert_exporter": "python",
   "pygments_lexer": "ipython3",
   "version": "3.12.4"
  }
 },
 "nbformat": 4,
 "nbformat_minor": 5
}
