{
 "cells": [
  {
   "cell_type": "code",
   "execution_count": 31,
   "id": "630c7517-446b-4739-98f3-b3c534ff899b",
   "metadata": {},
   "outputs": [
    {
     "name": "stdout",
     "output_type": "stream",
     "text": [
      "Type of my_complex_number: <class 'complex'>\n",
      "ID of my_complex_number: 2610667861392\n"
     ]
    }
   ],
   "source": [
    "#Declare a complex number and store it in a variable.\n",
    "#Check the type and print the id of the same.\n",
    "# Declare a complex number and store it in a variable\n",
    "my_complex_number = 10 + 20j\n",
    "\n",
    "# Check the type of the variable\n",
    "print(f\"Type of my_complex_number: {type(my_complex_number)}\")\n",
    "\n",
    "# Print the id of the complex number\n",
    "print(f\"ID of my_complex_number: {id(my_complex_number)}\")\n"
   ]
  },
  {
   "cell_type": "code",
   "execution_count": 35,
   "id": "c742a49f-56d4-4a45-9076-c49bdf80ba57",
   "metadata": {},
   "outputs": [
    {
     "name": "stdout",
     "output_type": "stream",
     "text": [
      "Sum: (4+6j)\n",
      "Difference: (2+2j)\n",
      "Product: (-5+10j)\n",
      "Division: (2.2-0.4j)\n",
      "Power: (-0.41981317556195746-0.6604516942073324j)\n"
     ]
    }
   ],
   "source": [
    "#Arithmetic Operations on complex number\n",
    "#Take two different complex numbers.\n",
    "#Store them in two different variables.\n",
    "#Do below operations on them:-\n",
    " #Find sum of both numbers\n",
    " #Find difference between them\n",
    " #Find the product of both numbers.\n",
    " #Find value after dividing first num with second number\n",
    " #Find the result of the first num to the power of the second number.\n",
    "\n",
    "     # Declare two different complex numbers\n",
    "num1 = 3 + 4j\n",
    "num2 = 1 + 2j\n",
    "\n",
    "# Find sum of both numbers\n",
    "sum_result = num1 + num2\n",
    "print(f\"Sum: {sum_result}\")\n",
    "\n",
    "# Find difference between the numbers\n",
    "difference_result = num1 - num2\n",
    "print(f\"Difference: {difference_result}\")\n",
    "\n",
    "# Find the product of both numbers\n",
    "product_result = num1 * num2\n",
    "print(f\"Product: {product_result}\")\n",
    "\n",
    "# Find value after dividing first number with second number\n",
    "division_result = num1 / num2\n",
    "print(f\"Division: {division_result}\")\n",
    "\n",
    "# Find the result of the first number raised to the power of the second number\n",
    "power_result = num1 ** num2\n",
    "print(f\"Power: {power_result}\")\n"
   ]
  },
  {
   "cell_type": "code",
   "execution_count": 29,
   "id": "ee7f64ba-a269-4435-a114-efbdc1501308",
   "metadata": {},
   "outputs": [
    {
     "name": "stdout",
     "output_type": "stream",
     "text": [
      "True\n",
      "False\n",
      "False\n",
      "True\n"
     ]
    }
   ],
   "source": [
    "#Comparison Operation not applicable between instance of complex\n",
    "#values.\n",
    "#Object reusability concept is not applicable on complex number\n",
    "# Define two complex numbers\n",
    "num1 = 10 + 20j\n",
    "num2 = 10 + 20j\n",
    "num3 = 15 + 25j\n",
    "\n",
    "# Equality (==) works between complex numbers\n",
    "print(num1 == num2)  # True, as both have the same real and imaginary parts\n",
    "print(num1 == num3)  # False, as they have different real and imaginary parts\n",
    "\n",
    "# Inequality (!=) works similarly\n",
    "print(num1 != num2)  # False, as they are equal\n",
    "print(num1 != num3)  # True, as they are not equal\n",
    "\n",
    "# Comparison operators (<, >, <=, >=) do not work with complex numbers\n",
    "# Uncommenting the next line will raise a TypeError:\n",
    "# print(num1 < num2)  # TypeError: '<' not supported between instances of 'complex' and 'complex'\n"
   ]
  },
  {
   "cell_type": "code",
   "execution_count": 25,
   "id": "eeff71b1-e79d-4f21-adcf-c5009f21b837",
   "metadata": {},
   "outputs": [
    {
     "name": "stdout",
     "output_type": "stream",
     "text": [
      "True\n",
      "False\n",
      "False\n",
      "True\n"
     ]
    }
   ],
   "source": [
    "#Equality Operator\n",
    "#Take two different complex numbers.\n",
    "#Store them in two different variables.\n",
    "#Equate them using equality operators (==, !=)\n",
    "#Observe the output(return type should be boolean)\n",
    "# Define two different complex numbers\n",
    "complex_num1 = 10 + 20j\n",
    "complex_num2 = 10 + 20j  # Same as complex_num1\n",
    "complex_num3 = 15 + 25j  # Different complex number\n",
    "\n",
    "# Using equality operator (==)\n",
    "print(complex_num1 == complex_num2)  # Expected: True (Both complex numbers are equal)\n",
    "print(complex_num1 == complex_num3)  # Expected: False (Complex numbers are different)\n",
    "\n",
    "# Using inequality operator (!=)\n",
    "print(complex_num1 != complex_num2)  # Expected: False (Both complex numbers are equal)\n",
    "print(complex_num1 != complex_num3)  # Expected: True (Complex numbers are different)\n"
   ]
  },
  {
   "cell_type": "code",
   "execution_count": 23,
   "id": "e0a2e57d-182b-41bb-b8ac-f781bc5b5365",
   "metadata": {},
   "outputs": [
    {
     "name": "stdout",
     "output_type": "stream",
     "text": [
      "(20+30j)\n",
      "0j\n",
      "0j\n",
      "0j\n",
      "(10+20j)\n",
      "(20+30j)\n",
      "(20+30j)\n",
      "0j\n",
      "False\n",
      "True\n"
     ]
    }
   ],
   "source": [
    "#Logical operators\n",
    "#Observe the output of below code\n",
    "#Cross check the output manually\n",
    "print(10+20j and 20+30j) #20+30j\n",
    "#----------------------------------------->Output is 20+30j\n",
    "print(0+0j and 20+30j) #0+0j\n",
    "#----------------------------------------->Output is 0j\n",
    "print(20+30j and 0+0j) #0+0j\n",
    "#----------------------------------------->Output is 0j\n",
    "print(0+0j and 0+0j) #0+0j\n",
    "#----------------------------------------->Output is 0j\n",
    "print(10+20j or 20+30j) #10+20j\n",
    "#----------------------------------------->Output is 10+20j\n",
    "print(0+0j or 20+30j) #20+30j\n",
    "#----------------------------------------->Output is 20+30j\n",
    "print(20+30j or 0+0j) #20+30j\n",
    "#----------------------------------------->Output is 20+30j\n",
    "print(0+0j or 0+0j) #0+0j\n",
    "#----------------------------------------->Output is 0j\n",
    "print(not 10+20j) #False\n",
    "#----------------------------------------->Output is False\n",
    "print(not 0+0j) #True\n",
    "#----------------------------------------->Output is True"
   ]
  },
  {
   "cell_type": "code",
   "execution_count": 19,
   "id": "19c73625-8944-4da3-b163-05e9c69038cc",
   "metadata": {},
   "outputs": [
    {
     "name": "stdout",
     "output_type": "stream",
     "text": [
      "False\n",
      "True\n"
     ]
    }
   ],
   "source": [
    "#what is the output of the expression inside the print statement.\n",
    "#Cross check before running the program.\n",
    "\n",
    "\n",
    "a = 10 + 20j\n",
    "b = 10 + 20j\n",
    "print(a is b)  # False\n",
    "print(a is not b)  # True\n"
   ]
  },
  {
   "cell_type": "code",
   "execution_count": 15,
   "id": "ca07f93d-b0ba-4a40-b07a-13183574d84d",
   "metadata": {},
   "outputs": [
    {
     "name": "stdout",
     "output_type": "stream",
     "text": [
      "True\n",
      "True\n",
      "True\n",
      "True\n",
      "True\n",
      "True\n"
     ]
    }
   ],
   "source": [
    "#Membership operation\n",
    "#in, not in are two membership operators and it returns boolean value\n",
    "#print('2.7' in 'Python2.7.8') #True\n",
    "#print(10+20j in [10,10.20,10+20j,'Python']) #True\n",
    "#print(10+20j in (10,10.20,10+20j,'Python')) #True\n",
    "#print(30+40j in {1,20.30,30+40j}) #True\n",
    "#print(30+40j in {1:100, 2.3:200, 30+40j:300}) #True\n",
    "#print(10 in range(20)) #True\n",
    "\n",
    "print('2.7' in 'Python2.7.8')  # True\n",
    "print(10+20j in [10, 10.20, 10+20j, 'Python'])  # True\n",
    "print(10+20j in (10, 10.20, 10+20j, 'Python'))  # True\n",
    "print(30+40j in {1, 20.30, 30+40j})  # True\n",
    "print(30+40j in {1: 100, 2.3: 200, 30+40j: 300})  # True\n",
    "print(10 in range(20))  # True\n"
   ]
  },
  {
   "cell_type": "code",
   "execution_count": null,
   "id": "b5ad2f62-bd81-43c6-94f4-72275fcc70a4",
   "metadata": {},
   "outputs": [],
   "source": []
  }
 ],
 "metadata": {
  "kernelspec": {
   "display_name": "Python 3 (ipykernel)",
   "language": "python",
   "name": "python3"
  },
  "language_info": {
   "codemirror_mode": {
    "name": "ipython",
    "version": 3
   },
   "file_extension": ".py",
   "mimetype": "text/x-python",
   "name": "python",
   "nbconvert_exporter": "python",
   "pygments_lexer": "ipython3",
   "version": "3.12.4"
  }
 },
 "nbformat": 4,
 "nbformat_minor": 5
}
