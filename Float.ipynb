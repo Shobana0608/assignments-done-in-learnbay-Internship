{
 "cells": [
  {
   "cell_type": "code",
   "execution_count": 3,
   "id": "983ea912-1879-4614-864a-2d34e253c82d",
   "metadata": {},
   "outputs": [
    {
     "name": "stdout",
     "output_type": "stream",
     "text": [
      "Type of my_float: <class 'float'>\n",
      "ID of my_float: 1677350867824\n"
     ]
    }
   ],
   "source": [
    "#Declare a float value and store it in a variable.\n",
    "#Check the type and print the id of the same.\n",
    "\n",
    "# Declare a float value\n",
    "float_value = 20.3\n",
    "\n",
    "# Check the type of the variable\n",
    "print(\"Type of my_float:\", type(float_value))\n",
    "\n",
    "# Print the ID of the variable\n",
    "print(\"ID of my_float:\", id(float_value))\n"
   ]
  },
  {
   "cell_type": "code",
   "execution_count": 5,
   "id": "53ca7c6e-5f77-4a48-9974-cbd97db308a9",
   "metadata": {},
   "outputs": [
    {
     "name": "stdout",
     "output_type": "stream",
     "text": [
      "num1 > num2: False\n",
      "num1 < num2: True\n",
      "num1 >= num2: False\n",
      "num1 <= num2: True\n"
     ]
    }
   ],
   "source": [
    "#. Comparison Operators on float\n",
    "#Take two different float values.\n",
    "#Store them in two different variables.\n",
    "#Do below operations on them:-\n",
    "# Compare these two numbers with below operator:-\n",
    "# Greater than, '>'\n",
    "# Smaller than, '<'\n",
    "# Greater than or equal to, '>='\n",
    "# Less than or equal to, '<='\n",
    "#Observe their output(return type should be boolean)\n",
    "# Declare two different float values\n",
    "num1 = 15.75\n",
    "num2 = 20.30\n",
    "\n",
    "# Compare the two numbers using different operators\n",
    "\n",
    "# Greater than ('>')\n",
    "greater_than = num1 > num2\n",
    "print(f\"num1 > num2: {greater_than}\")  # False, because 15.75 is not greater than 20.30\n",
    "\n",
    "# Smaller than ('<')\n",
    "smaller_than = num1 < num2\n",
    "print(f\"num1 < num2: {smaller_than}\")  # True, because 15.75 is smaller than 20.30\n",
    "\n",
    "# Greater than or equal to ('>=')\n",
    "greater_than_or_equal = num1 >= num2\n",
    "print(f\"num1 >= num2: {greater_than_or_equal}\")  # False, because 15.75 is not greater than or equal to 20.30\n",
    "\n",
    "# Less than or equal to ('<=')\n",
    "less_than_or_equal = num1 <= num2\n",
    "print(f\"num1 <= num2: {less_than_or_equal}\")  # True, because 15.75 is less than or equal to 20.30\n"
   ]
  },
  {
   "cell_type": "code",
   "execution_count": 9,
   "id": "d1514ba0-9133-43df-8bfe-b23d4a661b24",
   "metadata": {},
   "outputs": [
    {
     "name": "stdout",
     "output_type": "stream",
     "text": [
      "num1 == num2: False\n",
      "num1 != num2: True\n"
     ]
    }
   ],
   "source": [
    "# Equality Operator\n",
    "#Take two different float values.\n",
    "#Store them in two different variables.\n",
    "#Equate them using equality operators (==, !=)\n",
    "#Observe the output(return type should be boolean)\n",
    "# Declare two different float values\n",
    "num1 = 15.5\n",
    "num2 = 20.5\n",
    "\n",
    "# Equate the two numbers using equality operator (==)\n",
    "is_equal = num1 == num2\n",
    "print(f\"num1 == num2: {is_equal}\")  # False, because num1 and num2 are different\n",
    "\n",
    "# Equate the two numbers using inequality operator (!=)\n",
    "is_not_equal = num1 != num2\n",
    "print(f\"num1 != num2: {is_not_equal}\")  # True, because num1 and num2 are different\n"
   ]
  },
  {
   "cell_type": "code",
   "execution_count": 11,
   "id": "10ccd0bc-be24-4405-8ee4-d0d56f668c62",
   "metadata": {},
   "outputs": [
    {
     "name": "stdout",
     "output_type": "stream",
     "text": [
      "20.3\n",
      "0.0\n",
      "0.0\n",
      "0.0\n",
      "10.2\n",
      "20.3\n",
      "20.3\n",
      "0.0\n",
      "False\n",
      "True\n"
     ]
    }
   ],
   "source": [
    "#Logical operators\n",
    "#Observe the output of below code\n",
    "#Cross check the output manually\n",
    "#print(10.20 and 20.30) #both are true and second value taken\n",
    "#>Output is 20.3\n",
    "#print(0.0 and 20.30) #First is false so first value\n",
    "#taken->Output is 0.0\n",
    "#print(20.30 and 0.0) #Goes to till second and second value is\n",
    "#false so second is taken>Output is 0.0\n",
    "#print(0.0 and 0.0) #First is false so first value is\n",
    "#taken->Output is 0.0\n",
    "#print(10.20 or 20.30) #First is True so first value is\n",
    "#taken>Output is 10.2\n",
    "#print(0.0 or 20.30) #Goes to till second and second is true\n",
    "#second value is taken->Output is 20.3\n",
    "#print(20.30 or 0.0) #First is True so first value is\n",
    "#taken->Output is 20.3\n",
    "#print(0.0 or 0.0) #Goes to till second and second is also\n",
    "#false and second value is taken>Output is 0.0\n",
    "#print(not 10.20) #-Not of true is false->Output is False\n",
    "#print(not 0.0) #Not of false is True>Output is True\n",
    "print(10.20 and 20.30)  # Output is 20.3\n",
    "print(0.0 and 20.30)    # Output is 0.0\n",
    "print(20.30 and 0.0)    # Output is 0.0\n",
    "print(0.0 and 0.0)      # Output is 0.0\n",
    "print(10.20 or 20.30)   # Output is 10.2\n",
    "print(0.0 or 20.30)     # Output is 20.3\n",
    "print(20.30 or 0.0)     # Output is 20.3\n",
    "print(0.0 or 0.0)       # Output is 0.0\n",
    "print(not 10.20)        # Output is False\n",
    "print(not 0.0)          # Output is True\n"
   ]
  },
  {
   "cell_type": "code",
   "execution_count": 21,
   "id": "f0a4f1af-ea77-4dc8-a494-b8690c002c81",
   "metadata": {},
   "outputs": [
    {
     "name": "stdout",
     "output_type": "stream",
     "text": [
      "False\n",
      "True\n",
      "False\n",
      "True\n"
     ]
    }
   ],
   "source": [
    "#What is the output of expression inside print statement. Cross check\n",
    "#before running the program.\n",
    "a = 10.20\n",
    "b = 10.20\n",
    "print(a is b) #True or False? True 10.20<256\n",
    "print(a is not b) #True or False? False\n",
    "#Why the Id of float values are different when the same value is\n",
    "#assigned to two different variables\n",
    "#ex: a = 10.5 b=10.5. but id will be same if I assign the variable\n",
    "#having float i.e. a=c then both a and c's Id are same\n",
    "\n",
    "a = 10.20\n",
    "b = 10.20\n",
    "print(a is b)  # True or False?\n",
    "print(a is not b)  # True or False?\n"
   ]
  },
  {
   "cell_type": "code",
   "execution_count": 25,
   "id": "97f1f1c0-c722-4346-ad0a-b149d6e979dd",
   "metadata": {},
   "outputs": [
    {
     "name": "stdout",
     "output_type": "stream",
     "text": [
      "1677326823952\n",
      "1677350875984\n"
     ]
    }
   ],
   "source": [
    "#Bitwise operation is not applicable between instances of float.\n",
    "#Why the Id of float values are different when the same value is\n",
    "#assigned to two different variables\n",
    "#ex: a = 10.5 b=10.5. but id will be same if I assign the variable\n",
    "#having float i.e. a=c then both a and c's Id are same\n",
    "#Object reusability concept is not applicable on float values.\n",
    "\n",
    "a = 10.5\n",
    "b = 10.5\n",
    "print(id(a))  # Different ID for a\n",
    "print(id(b))  # Different ID for b\n"
   ]
  },
  {
   "cell_type": "code",
   "execution_count": 27,
   "id": "98b092a6-d34d-4bae-b568-e88b2c3d1452",
   "metadata": {},
   "outputs": [
    {
     "name": "stdout",
     "output_type": "stream",
     "text": [
      "True\n",
      "True\n",
      "True\n",
      "True\n",
      "True\n",
      "True\n",
      "True\n"
     ]
    }
   ],
   "source": [
    "#Membership operation\n",
    "#in, not in are two membership operators and it returns boolean value\n",
    "print('2.7' in 'Python2.7.8') #True\n",
    "print(10.20 in [10,10.20,10+20j,'Python']) #True\n",
    "print(10.20 in (10,10.20,10+20j,'Python')) # True\n",
    "print(20.30 in {1,20.30,30+40j}) # True\n",
    "print(2.3 in {1:100, 2.3:200, 30+40j:300}) # True\n",
    "print(10 in range(20)) # True\n",
    "print('2.7' in 'Python2.7.8')  # True\n"
   ]
  },
  {
   "cell_type": "code",
   "execution_count": null,
   "id": "b3f77b7d-8a54-41cb-b550-cc443cc4c3f8",
   "metadata": {},
   "outputs": [],
   "source": []
  }
 ],
 "metadata": {
  "kernelspec": {
   "display_name": "Python 3 (ipykernel)",
   "language": "python",
   "name": "python3"
  },
  "language_info": {
   "codemirror_mode": {
    "name": "ipython",
    "version": 3
   },
   "file_extension": ".py",
   "mimetype": "text/x-python",
   "name": "python",
   "nbconvert_exporter": "python",
   "pygments_lexer": "ipython3",
   "version": "3.12.4"
  }
 },
 "nbformat": 4,
 "nbformat_minor": 5
}
